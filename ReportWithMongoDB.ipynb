{
 "cells": [
  {
   "cell_type": "markdown",
   "metadata": {},
   "source": [
    "# 使用 MongoDB整理 OpenStreetMap 数据"
   ]
  },
  {
   "cell_type": "markdown",
   "metadata": {},
   "source": [
    "## 1. 在地图中遇到的问题\n",
    "\n",
    "+ 邮编数据有非6位数字数据\n",
    "+ 名称' name' 中文、英文还有其他语言混杂，且 name有多个不同tag 标识\n",
    "+ 有些路名仅英文，没有中文，中文相同发音有多条道路，没办法确定实际名称\n",
    "    - node 574755937，addr:street': 'East Zhaohua Road\n",
    "+ tag的key和内容不一致\n",
    "    - 如tag key是city，但实际内容可能是区域名称，或带有门牌号的地址。\n",
    "+ 旅游特色，如animal，动物名称，直接被写成地点的名称。\n",
    "+ 不同的人对街道，地址的理解不同，比如说‘弄’，有些理解位街道，放到路名中，有些理解为门牌号。\n",
    "+ district理解也有不同，有理解为行政区域，也有理解为通俗概念上的区域，这些通俗概念的区域可能比行政区域大或小，比如‘浦西’比district要大。\n",
    "+ subway 表示，不符合OSM规范\n"
   ]
  },
  {
   "cell_type": "markdown",
   "metadata": {},
   "source": [
    "## 2. 数据概述\n",
    "\n",
    "### 原始数据\n",
    "\n",
    "+ 数据来源 : mapzen.com\n",
    "    - [下载页面](https://mapzen.com/data/metro-extracts/metro/shanghai_china/102027181/Shanghai/)\n",
    "    - [下载链接](https://s3.amazonaws.com/metro-extracts.mapzen.com/shanghai_china.osm.bz2)\n",
    "+ 文件大小\n",
    "     - 871274652 12月  6 10:58 shanghai_china.osm\n",
    "+ 原始node记录\n",
    "    - 原始node记录数\n",
    "        + `db.org_osm.count({'type': 'node'})`\n",
    "        + 4141878\n",
    "    - 原始空node数\n",
    "        + 空记录仅包含创建人信息和坐标信息，没有其他信息，没有实际含义，在数据整理前删除\n",
    "        + `db.org_osm.count({'type': 'node','tags': {$exists: false}})`\n",
    "        + 3959968\n",
    "+ 原始way记录\n",
    "    - 原始way记录数\n",
    "        + `db.org_osm.count({'type': 'way'})`\n",
    "        + 490805\n",
    "    - 原始空way记录数\n",
    "        + 空道路不包含节点，在数据整理前删除\n",
    "        + `db.org_osm.count({'type': 'way', 'nd_refs': {$exists: false}})`\n",
    "        + 744\n",
    "\n",
    "### 整理前后的数据\n",
    "\n",
    "整理前数目即原始记录去除空记录\n",
    "\n",
    "+ node数目\n",
    "    - 整理前 181910\n",
    "    - 整理后 27959\n",
    "+ way 数目\n",
    "    - 整理前 490061\n",
    "    - 整理后 490061"
   ]
  },
  {
   "cell_type": "markdown",
   "metadata": {},
   "source": [
    "### 整理后数据\n",
    "\n",
    "+ 用户数\n",
    "    - `db.osm_collection.distinct(\"created.uid\").length`\n",
    "    - 2325\n",
    "+ 贡献最大用户\n",
    "    - `db.osm_collection.aggregate([{$group:{\"_id\":\"$created.user\", \"count\":{$sum:1}}}, {$sort:{\"count\": -1}}, {$limit:1}])`\n",
    "    - `{ \"_id\" : \"Chen Jia\", \"count\" : 94123 }`\n",
    "+ 仅贡献一次用户数\n",
    "    - `db.osm_collection.aggregate([{$group:{\"_id\":\"$created.user\", \"count\":{\"$sum\":1}}},  {$group:{\"_id\":\"$count\", \"num_users\":{$sum:1}}},{$sort:{\"_id\":1}}, {$limit:1}])`\n",
    "    - `{ \"_id\" : 1, \"num_users\" : 739 }`\n",
    "+ 不同shop 数量\n",
    "    - `db.osm_collection.aggregate([{$match: {'shop': {$exists: true}}},{$group: {'_id': '$shop', 'count': {'$sum':1}}}, {$sort: {'count': -1}}])`\n",
    "    - supermarket 最多 619\n",
    "    - 其次 convenience，476\n"
   ]
  },
  {
   "cell_type": "markdown",
   "metadata": {},
   "source": [
    "## 3.  关于数据集的其他想法"
   ]
  },
  {
   "cell_type": "markdown",
   "metadata": {},
   "source": [
    "1. 在数据保存阶段加入验证\n",
    "    - 好处\n",
    "        + 可以避免一些简单的错误\n",
    "    - 预期问题\n",
    "        + 对邮编、电话号码等容易制定验证规则\n",
    "        + 对于城市，街道名称难以制定验证规则，可以考虑仅验证语言合规\n",
    "2. 制定OSM key列表，录取新数据，key使用下拉列表，避免非法tag key\n",
    "    - 好处\n",
    "        + 可以避免使用不合法的tag key\n",
    "    - 预期问题\n",
    "        + 列表更新不及时\n",
    "3. 可以不允许空数据保存\n",
    "    - 好处\n",
    "        + 避免当前数据集中node 只有坐标和创建人的信息，而没有实际坐标点信息\n",
    "    - 预期问题\n",
    "        + 需要研究每一类节点的基本信息。比如node至少包含一个tag，way至少包含两个ref"
   ]
  },
  {
   "cell_type": "code",
   "execution_count": null,
   "metadata": {},
   "outputs": [],
   "source": []
  }
 ],
 "metadata": {
  "kernelspec": {
   "display_name": "Python 3",
   "language": "python",
   "name": "python3"
  },
  "language_info": {
   "codemirror_mode": {
    "name": "ipython",
    "version": 3
   },
   "file_extension": ".py",
   "mimetype": "text/x-python",
   "name": "python",
   "nbconvert_exporter": "python",
   "pygments_lexer": "ipython3",
   "version": "3.6.3"
  }
 },
 "nbformat": 4,
 "nbformat_minor": 2
}
